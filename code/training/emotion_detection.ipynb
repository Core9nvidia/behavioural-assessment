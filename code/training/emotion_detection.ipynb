{
  "cells": [
    {
      "cell_type": "markdown",
      "metadata": {
        "colab_type": "text",
        "id": "view-in-github"
      },
      "source": [
        "<a href=\"https://colab.research.google.com/github/Varun221/Real_time_emotion_detection/blob/master/emotion_detection.ipynb\" target=\"_parent\"><img src=\"https://colab.research.google.com/assets/colab-badge.svg\" alt=\"Open In Colab\"/></a>"
      ]
    },
    {
      "cell_type": "code",
      "execution_count": 1,
      "metadata": {
        "colab": {},
        "colab_type": "code",
        "id": "PBU2-RtLT898"
      },
      "outputs": [],
      "source": [
        "# importing the libraries\n",
        "# %tensorflow_version 2.x\n",
        "import numpy as np\n",
        "import tensorflow as tf\n",
        "import matplotlib.pyplot as plt"
      ]
    },
    {
      "cell_type": "code",
      "execution_count": 2,
      "metadata": {
        "colab": {},
        "colab_type": "code",
        "id": "IOh2XNCMUMOa"
      },
      "outputs": [],
      "source": [
        "# mapping emotion to index\n",
        "emotions  = ['angry', 'happy', 'neutral', 'sad', 'surprise']\n",
        "\n",
        "emotion_to_index = {k:i for i,k in enumerate(emotions)}\n",
        "index_to_emotion = {i:k for k,i in emotion_to_index.items()}"
      ]
    },
    {
      "cell_type": "code",
      "execution_count": 3,
      "metadata": {
        "colab": {
          "base_uri": "https://localhost:8080/",
          "height": 34
        },
        "colab_type": "code",
        "id": "SBPsSmHNUUoC",
        "outputId": "3fcf4b1f-e4da-438c-aab0-1f856ed0ca64"
      },
      "outputs": [
        {
          "data": {
            "text/plain": [
              "((24176, 48, 48, 3), (24176, 1), (6043, 48, 48, 3), (6043, 1))"
            ]
          },
          "execution_count": 3,
          "metadata": {},
          "output_type": "execute_result"
        }
      ],
      "source": [
        "# Lets load up the files\n",
        "X_train = np.load('../../Data/X_train.npy')\n",
        "X_test = np.load('../../Data/X_test.npy')\n",
        "Y_train = np.load('../../Data/Y_train.npy')\n",
        "Y_test = np.load('../../Data/Y_test.npy')\n",
        "X_train.shape, Y_train.shape, X_test.shape, Y_test.shape"
      ]
    },
    {
      "cell_type": "code",
      "execution_count": 1,
      "metadata": {
        "colab": {
          "base_uri": "https://localhost:8080/",
          "height": 284
        },
        "colab_type": "code",
        "id": "PIMU5zdaUxS_",
        "outputId": "f90e412d-05b6-4f2d-dd7d-6dc2cf907565"
      },
      "outputs": [
        {
          "ename": "NameError",
          "evalue": "name 'X_train' is not defined",
          "output_type": "error",
          "traceback": [
            "\u001b[1;31m---------------------------------------------------------------------------\u001b[0m",
            "\u001b[1;31mNameError\u001b[0m                                 Traceback (most recent call last)",
            "\u001b[1;32m<ipython-input-1-eb1225a19704>\u001b[0m in \u001b[0;36m<module>\u001b[1;34m\u001b[0m\n\u001b[0;32m      1\u001b[0m \u001b[1;31m# visualizing the files based on index\u001b[0m\u001b[1;33m\u001b[0m\u001b[1;33m\u001b[0m\u001b[1;33m\u001b[0m\u001b[0m\n\u001b[0;32m      2\u001b[0m \u001b[0mindex\u001b[0m \u001b[1;33m=\u001b[0m \u001b[1;36m0\u001b[0m\u001b[1;33m\u001b[0m\u001b[1;33m\u001b[0m\u001b[0m\n\u001b[1;32m----> 3\u001b[1;33m \u001b[0mimg\u001b[0m \u001b[1;33m=\u001b[0m \u001b[0mX_train\u001b[0m\u001b[1;33m[\u001b[0m\u001b[0mindex\u001b[0m\u001b[1;33m,\u001b[0m\u001b[1;33m:\u001b[0m\u001b[1;33m,\u001b[0m\u001b[1;33m:\u001b[0m\u001b[1;33m,\u001b[0m\u001b[1;33m:\u001b[0m\u001b[1;33m]\u001b[0m\u001b[1;33m\u001b[0m\u001b[1;33m\u001b[0m\u001b[0m\n\u001b[0m\u001b[0;32m      4\u001b[0m \u001b[0mprint\u001b[0m\u001b[1;33m(\u001b[0m\u001b[1;34mf\"This is {index_to_emotion[Y_train[index, 0]]}\"\u001b[0m\u001b[1;33m)\u001b[0m\u001b[1;33m\u001b[0m\u001b[1;33m\u001b[0m\u001b[0m\n\u001b[0;32m      5\u001b[0m \u001b[0mimg\u001b[0m \u001b[1;33m=\u001b[0m \u001b[0mimg\u001b[0m\u001b[1;33m.\u001b[0m\u001b[0mastype\u001b[0m\u001b[1;33m(\u001b[0m\u001b[0mnp\u001b[0m\u001b[1;33m.\u001b[0m\u001b[0muint8\u001b[0m\u001b[1;33m)\u001b[0m\u001b[1;33m\u001b[0m\u001b[1;33m\u001b[0m\u001b[0m\n",
            "\u001b[1;31mNameError\u001b[0m: name 'X_train' is not defined"
          ]
        }
      ],
      "source": [
        "# visualizing the files based on index\n",
        "index = 0\n",
        "img = X_train[index,:,:,:]\n",
        "print(f\"This is {index_to_emotion[Y_train[index, 0]]}\")\n",
        "img = img.astype(np.uint8)\n",
        "plt.imshow(img, cmap='Greys')\n",
        "plt.show()"
      ]
    },
    {
      "cell_type": "code",
      "execution_count": 5,
      "metadata": {},
      "outputs": [
        {
          "data": {
            "text/plain": [
              "array([3995, 7215, 4965, 4830, 3171], dtype=int64)"
            ]
          },
          "execution_count": 5,
          "metadata": {},
          "output_type": "execute_result"
        }
      ],
      "source": [
        "np.unique(Y_train, return_counts=True)[1]"
      ]
    },
    {
      "cell_type": "code",
      "execution_count": 6,
      "metadata": {
        "colab": {
          "base_uri": "https://localhost:8080/",
          "height": 302
        },
        "colab_type": "code",
        "id": "nVgazLFVVYLE",
        "outputId": "6960f2c1-d679-463d-98f5-710de3906db7"
      },
      "outputs": [
        {
          "data": {
            "image/png": "[encoded data removed]",
            "text/plain": [
              "<Figure size 432x288 with 1 Axes>"
            ]
          },
          "metadata": {
            "needs_background": "light"
          },
          "output_type": "display_data"
        }
      ],
      "source": [
        "# number of images pertaining to each class\n",
        "arr = np.unique(Y_train, return_counts=True)[1]\n",
        "    \n",
        "\n",
        "arr2 = np.reshape(arr, (-1))\n",
        "\n",
        "plt.bar(range(len(emotions)), arr2, color='green')\n",
        "plt.xlabel(\"Emotion\", fontsize = 15)\n",
        "plt.ylabel(\"Number of images\", fontsize = 15)\n",
        "plt.title(\"Number of image per emotion in training set\", fontsize=15)\n",
        " \n",
        "plt.xticks(range(len(emotions)), emotions)\n",
        " \n",
        "plt.show()"
      ]
    },
    {
      "cell_type": "code",
      "execution_count": 7,
      "metadata": {
        "colab": {
          "base_uri": "https://localhost:8080/",
          "height": 34
        },
        "colab_type": "code",
        "id": "L_G_MN32V36X",
        "outputId": "3a2db8ad-f37f-4044-c616-81280162cbf8"
      },
      "outputs": [
        {
          "data": {
            "text/plain": [
              "((24176, 5), (6043, 5))"
            ]
          },
          "execution_count": 7,
          "metadata": {},
          "output_type": "execute_result"
        }
      ],
      "source": [
        "# preproceesing the images\n",
        "# scaling the X arrays\n",
        "# one hot encoding the Y arrays\n",
        "X_train_proc = X_train/255.\n",
        "X_test_proc = X_test/255.\n",
        "Y_train_proc = np.squeeze(np.array(tf.one_hot(Y_train,len(emotions), axis=1)))\n",
        "Y_test_proc = np.squeeze(np.array(tf.one_hot(Y_test,len(emotions), axis=1)))\n",
        "Y_train_proc.shape, Y_test_proc.shape"
      ]
    },
    {
      "cell_type": "code",
      "execution_count": 8,
      "metadata": {
        "colab": {},
        "colab_type": "code",
        "id": "eK1xpwXYZv7t"
      },
      "outputs": [],
      "source": [
        "from tensorflow.keras import Sequential\n",
        "from tensorflow.keras import Model\n",
        "from tensorflow.keras.layers import Conv2D, Dense, Flatten, BatchNormalization, Dropout, MaxPooling2D, Input"
      ]
    },
    {
      "cell_type": "code",
      "execution_count": 9,
      "metadata": {},
      "outputs": [],
      "source": [
        "model = Sequential(name='DCNN')\n",
        "\n",
        "model.add(\n",
        "    Conv2D(\n",
        "        filters=64,\n",
        "        kernel_size=(5,5),\n",
        "        input_shape=(48, 48, 3),\n",
        "        activation='elu',\n",
        "        padding='same',\n",
        "        kernel_initializer='he_normal',\n",
        "        name='conv2d_1'\n",
        "    )\n",
        ")\n",
        "model.add(BatchNormalization(name='batchnorm_1'))\n",
        "model.add(\n",
        "    Conv2D(\n",
        "        filters=64,\n",
        "        kernel_size=(5,5),\n",
        "        activation='elu',\n",
        "        padding='same',\n",
        "        kernel_initializer='he_normal',\n",
        "        name='conv2d_2'\n",
        "    )\n",
        ")\n",
        "model.add(BatchNormalization(name='batchnorm_2'))\n",
        "\n",
        "model.add(MaxPooling2D(pool_size=(2,2), name='maxpool2d_1'))\n",
        "model.add(Dropout(0.4, name='dropout_1'))\n",
        "\n",
        "model.add(\n",
        "    Conv2D(\n",
        "        filters=128,\n",
        "        kernel_size=(3,3),\n",
        "        activation='elu',\n",
        "        padding='same',\n",
        "        kernel_initializer='he_normal',\n",
        "        name='conv2d_3'\n",
        "    )\n",
        ")\n",
        "model.add(BatchNormalization(name='batchnorm_3'))\n",
        "model.add(\n",
        "    Conv2D(\n",
        "        filters=128,\n",
        "        kernel_size=(3,3),\n",
        "        activation='elu',\n",
        "        padding='same',\n",
        "        kernel_initializer='he_normal',\n",
        "        name='conv2d_4'\n",
        "    )\n",
        ")\n",
        "model.add(BatchNormalization(name='batchnorm_4'))\n",
        "\n",
        "model.add(MaxPooling2D(pool_size=(2,2), name='maxpool2d_2'))\n",
        "model.add(Dropout(0.4, name='dropout_2'))\n",
        "\n",
        "model.add(\n",
        "    Conv2D(\n",
        "        filters=256,\n",
        "        kernel_size=(3,3),\n",
        "        activation='elu',\n",
        "        padding='same',\n",
        "        kernel_initializer='he_normal',\n",
        "        name='conv2d_5'\n",
        "    )\n",
        ")\n",
        "model.add(BatchNormalization(name='batchnorm_5'))\n",
        "model.add(\n",
        "    Conv2D(\n",
        "        filters=256,\n",
        "        kernel_size=(3,3),\n",
        "        activation='elu',\n",
        "        padding='same',\n",
        "        kernel_initializer='he_normal',\n",
        "        name='conv2d_6'\n",
        "    )\n",
        ")\n",
        "model.add(BatchNormalization(name='batchnorm_6'))\n",
        "\n",
        "model.add(MaxPooling2D(pool_size=(2,2), name='maxpool2d_3'))\n",
        "model.add(Dropout(0.5, name='dropout_3'))\n",
        "\n",
        "model.add(Flatten(name='flatten'))\n",
        "    \n",
        "model.add(\n",
        "    Dense(\n",
        "        128,\n",
        "        activation='elu',\n",
        "        kernel_initializer='he_normal',\n",
        "        name='dense_1'\n",
        "    )\n",
        ")\n",
        "model.add(BatchNormalization(name='batchnorm_7'))\n",
        "\n",
        "model.add(Dropout(0.3, name='dropout_4'))\n",
        "\n",
        "model.add(\n",
        "    Dense(\n",
        "        len(emotions),\n",
        "        activation='softmax',\n",
        "        name='out_layer'\n",
        "    )\n",
        ")"
      ]
    },
    {
      "cell_type": "code",
      "execution_count": 10,
      "metadata": {
        "colab": {},
        "colab_type": "code",
        "id": "9DsqtSbgfx1K"
      },
      "outputs": [],
      "source": [
        "# input = Input(shape=(48,48,3))\n",
        "# x = Conv2D(16, (5,5), activation='relu')(input)\n",
        "# x = BatchNormalization()(x)\n",
        "# x = MaxPooling2D((3,3), strides=2)(x)\n",
        "# x = Dropout(0.25)(x)\n",
        "# x = Conv2D(32, (5,5), activation='relu')(x)\n",
        "# x = MaxPooling2D((3,3), strides=2)(x)\n",
        "# x = Dropout(0.2)(x)\n",
        "# x = Conv2D(64, (4,4), activation='relu')(x)\n",
        "# x = Flatten()(x)\n",
        "# x = Dense(40, activation='relu')(x)\n",
        "# output = Dense(7, activation='softmax')(x)\n",
        "# model = Model(inputs=input, outputs=output)"
      ]
    },
    {
      "cell_type": "code",
      "execution_count": 11,
      "metadata": {
        "colab": {
          "base_uri": "https://localhost:8080/",
          "height": 561
        },
        "colab_type": "code",
        "id": "cDWxsX5QZ6Dw",
        "outputId": "20ba91d3-09fd-4300-9b8e-c295ee822bfa"
      },
      "outputs": [
        {
          "name": "stdout",
          "output_type": "stream",
          "text": [
            "Model: \"DCNN\"\n",
            "_________________________________________________________________\n",
            "Layer (type)                 Output Shape              Param #   \n",
            "=================================================================\n",
            "conv2d_1 (Conv2D)            (None, 48, 48, 64)        4864      \n",
            "_________________________________________________________________\n",
            "batchnorm_1 (BatchNormalizat (None, 48, 48, 64)        256       \n",
            "_________________________________________________________________\n",
            "conv2d_2 (Conv2D)            (None, 48, 48, 64)        102464    \n",
            "_________________________________________________________________\n",
            "batchnorm_2 (BatchNormalizat (None, 48, 48, 64)        256       \n",
            "_________________________________________________________________\n",
            "maxpool2d_1 (MaxPooling2D)   (None, 24, 24, 64)        0         \n",
            "_________________________________________________________________\n",
            "dropout_1 (Dropout)          (None, 24, 24, 64)        0         \n",
            "_________________________________________________________________\n",
            "conv2d_3 (Conv2D)            (None, 24, 24, 128)       73856     \n",
            "_________________________________________________________________\n",
            "batchnorm_3 (BatchNormalizat (None, 24, 24, 128)       512       \n",
            "_________________________________________________________________\n",
            "conv2d_4 (Conv2D)            (None, 24, 24, 128)       147584    \n",
            "_________________________________________________________________\n",
            "batchnorm_4 (BatchNormalizat (None, 24, 24, 128)       512       \n",
            "_________________________________________________________________\n",
            "maxpool2d_2 (MaxPooling2D)   (None, 12, 12, 128)       0         \n",
            "_________________________________________________________________\n",
            "dropout_2 (Dropout)          (None, 12, 12, 128)       0         \n",
            "_________________________________________________________________\n",
            "conv2d_5 (Conv2D)            (None, 12, 12, 256)       295168    \n",
            "_________________________________________________________________\n",
            "batchnorm_5 (BatchNormalizat (None, 12, 12, 256)       1024      \n",
            "_________________________________________________________________\n",
            "conv2d_6 (Conv2D)            (None, 12, 12, 256)       590080    \n",
            "_________________________________________________________________\n",
            "batchnorm_6 (BatchNormalizat (None, 12, 12, 256)       1024      \n",
            "_________________________________________________________________\n",
            "maxpool2d_3 (MaxPooling2D)   (None, 6, 6, 256)         0         \n",
            "_________________________________________________________________\n",
            "dropout_3 (Dropout)          (None, 6, 6, 256)         0         \n",
            "_________________________________________________________________\n",
            "flatten (Flatten)            (None, 9216)              0         \n",
            "_________________________________________________________________\n",
            "dense_1 (Dense)              (None, 128)               1179776   \n",
            "_________________________________________________________________\n",
            "batchnorm_7 (BatchNormalizat (None, 128)               512       \n",
            "_________________________________________________________________\n",
            "dropout_4 (Dropout)          (None, 128)               0         \n",
            "_________________________________________________________________\n",
            "out_layer (Dense)            (None, 5)                 645       \n",
            "=================================================================\n",
            "Total params: 2,398,533\n",
            "Trainable params: 2,396,485\n",
            "Non-trainable params: 2,048\n",
            "_________________________________________________________________\n"
          ]
        }
      ],
      "source": [
        "model.summary()"
      ]
    },
    {
      "cell_type": "code",
      "execution_count": 12,
      "metadata": {
        "colab": {},
        "colab_type": "code",
        "id": "hsA1rTJJdiAA"
      },
      "outputs": [],
      "source": [
        "# compiling the model with adam optimizer\n",
        "from tensorflow.keras.optimizers import Adam\n",
        "from tensorflow.keras.callbacks import EarlyStopping, ReduceLROnPlateau\n",
        "\n",
        "opt = Adam(lr=0.001)\n",
        " \n",
        "model.compile(optimizer=opt, loss = 'categorical_crossentropy', metrics = ['accuracy'])\n",
        "\n",
        "\n",
        "early_stopping = EarlyStopping(\n",
        "    monitor='val_accuracy',\n",
        "    min_delta=0.00005,\n",
        "    patience=11,\n",
        "    verbose=1,\n",
        "    restore_best_weights=True,\n",
        ")\n",
        "\n",
        "lr_scheduler = ReduceLROnPlateau(\n",
        "    monitor='val_accuracy',\n",
        "    factor=0.5,\n",
        "    patience=7,\n",
        "    min_lr=1e-7,\n",
        "    verbose=1,\n",
        ")\n",
        "\n",
        "callbacks = [\n",
        "    early_stopping,\n",
        "    lr_scheduler,\n",
        "]"
      ]
    },
    {
      "cell_type": "code",
      "execution_count": 13,
      "metadata": {},
      "outputs": [],
      "source": [
        "from tensorflow.keras.preprocessing.image import ImageDataGenerator\n",
        "\n",
        "train_datagen = ImageDataGenerator(\n",
        "    rotation_range=15,\n",
        "    width_shift_range=0.15,\n",
        "    height_shift_range=0.15,\n",
        "    shear_range=0.15,\n",
        "    zoom_range=0.15,\n",
        "    horizontal_flip=True,\n",
        ")\n",
        "train_datagen.fit(X_train_proc)"
      ]
    },
    {
      "cell_type": "code",
      "execution_count": 14,
      "metadata": {},
      "outputs": [
        {
          "data": {
            "text/plain": [
              "[0.2195831344031455,\n",
              " 0.14070468649716963,\n",
              " 0.18479629582856502,\n",
              " 0.18878700843017598,\n",
              " 0.2661288748409439]"
            ]
          },
          "execution_count": 14,
          "metadata": {},
          "output_type": "execute_result"
        }
      ],
      "source": [
        "# def calc_weights(samples_per_class, beta=0.9999):\n",
        "#     effective_num = 1.0 - beta**samples_per_class\n",
        "#     weights = (1.0 - beta) / effective_num\n",
        "#     weights = weights / np.sum(weights)\n",
        "#     return weights.tolist()\n",
        "\n",
        "# class_wts = calc_weights(np.unique(Y_train, return_counts=True)[1])\n",
        "# class_wts"
      ]
    },
    {
      "cell_type": "code",
      "execution_count": 15,
      "metadata": {
        "colab": {
          "base_uri": "https://localhost:8080/",
          "height": 1000
        },
        "colab_type": "code",
        "id": "-UH1V7l-jp9n",
        "outputId": "a79c83e7-8453-4ab4-801b-271f06df76c6"
      },
      "outputs": [
        {
          "name": "stdout",
          "output_type": "stream",
          "text": [
            "WARNING:tensorflow:From <ipython-input-15-abf2df64e239>:6: Model.fit_generator (from tensorflow.python.keras.engine.training) is deprecated and will be removed in a future version.\n",
            "Instructions for updating:\n",
            "Please use Model.fit, which supports generators.\n",
            "WARNING:tensorflow:sample_weight modes were coerced from\n",
            "  ...\n",
            "    to  \n",
            "  ['...']\n",
            "Train for 755.5 steps, validate on 6043 samples\n",
            "Epoch 1/20\n",
            "756/755 [==============================] - 39s 52ms/step - loss: 1.6759 - accuracy: 0.3017 - val_loss: 1.3719 - val_accuracy: 0.4301\n",
            "Epoch 2/20\n",
            "756/755 [==============================] - 26s 34ms/step - loss: 1.4108 - accuracy: 0.4055 - val_loss: 1.6588 - val_accuracy: 0.3568\n",
            "Epoch 3/20\n",
            "756/755 [==============================] - 26s 35ms/step - loss: 1.2154 - accuracy: 0.5009 - val_loss: 1.0295 - val_accuracy: 0.5919\n",
            "Epoch 4/20\n",
            "756/755 [==============================] - 26s 35ms/step - loss: 1.1090 - accuracy: 0.5531 - val_loss: 1.0701 - val_accuracy: 0.5689\n",
            "Epoch 5/20\n",
            "756/755 [==============================] - 26s 35ms/step - loss: 1.0347 - accuracy: 0.5880 - val_loss: 0.9459 - val_accuracy: 0.6302\n",
            "Epoch 6/20\n",
            "756/755 [==============================] - 26s 35ms/step - loss: 0.9917 - accuracy: 0.6090 - val_loss: 0.8718 - val_accuracy: 0.6611\n",
            "Epoch 7/20\n",
            "756/755 [==============================] - 26s 35ms/step - loss: 0.9571 - accuracy: 0.6253 - val_loss: 0.8785 - val_accuracy: 0.6560\n",
            "Epoch 8/20\n",
            "756/755 [==============================] - 26s 35ms/step - loss: 0.9284 - accuracy: 0.6375 - val_loss: 0.9341 - val_accuracy: 0.6351\n",
            "Epoch 9/20\n",
            "756/755 [==============================] - 26s 35ms/step - loss: 0.9024 - accuracy: 0.6547 - val_loss: 0.8900 - val_accuracy: 0.6490\n",
            "Epoch 10/20\n",
            "756/755 [==============================] - 31s 41ms/step - loss: 0.8863 - accuracy: 0.6586 - val_loss: 0.7798 - val_accuracy: 0.6975\n",
            "Epoch 11/20\n",
            "756/755 [==============================] - 34s 46ms/step - loss: 0.8649 - accuracy: 0.6642 - val_loss: 0.7752 - val_accuracy: 0.6960\n",
            "Epoch 12/20\n",
            "756/755 [==============================] - 34s 45ms/step - loss: 0.8557 - accuracy: 0.6726 - val_loss: 0.9104 - val_accuracy: 0.6500\n",
            "Epoch 13/20\n",
            "756/755 [==============================] - 34s 45ms/step - loss: 0.8384 - accuracy: 0.6794 - val_loss: 0.7567 - val_accuracy: 0.7063\n",
            "Epoch 14/20\n",
            "756/755 [==============================] - 34s 44ms/step - loss: 0.8276 - accuracy: 0.6835 - val_loss: 0.7628 - val_accuracy: 0.7035\n",
            "Epoch 15/20\n",
            "756/755 [==============================] - 34s 44ms/step - loss: 0.8230 - accuracy: 0.6874 - val_loss: 0.7877 - val_accuracy: 0.7016\n",
            "Epoch 16/20\n",
            "756/755 [==============================] - 34s 45ms/step - loss: 0.8092 - accuracy: 0.6875 - val_loss: 0.7343 - val_accuracy: 0.7180\n",
            "Epoch 17/20\n",
            "756/755 [==============================] - 34s 44ms/step - loss: 0.8022 - accuracy: 0.6929 - val_loss: 0.8045 - val_accuracy: 0.6904\n",
            "Epoch 18/20\n",
            "756/755 [==============================] - 34s 44ms/step - loss: 0.7945 - accuracy: 0.6970 - val_loss: 0.7229 - val_accuracy: 0.7270\n",
            "Epoch 19/20\n",
            "756/755 [==============================] - 34s 44ms/step - loss: 0.7836 - accuracy: 0.7013 - val_loss: 0.8429 - val_accuracy: 0.6795\n",
            "Epoch 20/20\n",
            "756/755 [==============================] - 34s 44ms/step - loss: 0.7778 - accuracy: 0.7031 - val_loss: 0.7440 - val_accuracy: 0.7167\n"
          ]
        }
      ],
      "source": [
        "history = model.fit_generator(\n",
        "    train_datagen.flow(X_train_proc, Y_train_proc, batch_size=32),\n",
        "    validation_data=(X_test_proc, Y_test_proc),\n",
        "    steps_per_epoch=len(X_train_proc) / 32,\n",
        "    epochs=20,\n",
        "    callbacks=callbacks,\n",
        "    # class_weight=class_wts\n",
        ")"
      ]
    },
    {
      "cell_type": "code",
      "execution_count": 16,
      "metadata": {
        "colab": {
          "base_uri": "https://localhost:8080/",
          "height": 1000
        },
        "colab_type": "code",
        "id": "TGrG87j-j8P3",
        "outputId": "737201c7-3dc5-407c-ff1f-5ecb0d1cf398"
      },
      "outputs": [
        {
          "data": {
            "image/png": "[encoded data removed]",
            "text/plain": [
              "<Figure size 720x1440 with 2 Axes>"
            ]
          },
          "metadata": {
            "needs_background": "light"
          },
          "output_type": "display_data"
        }
      ],
      "source": [
        "# PLOTTING TRAINING RESULTS\n",
        "# plotting accuracy, loss, recall, precision and f1 score of training and validation sets\n",
        " \n",
        "\n",
        " \n",
        "plt.figure(figsize=(10,20))\n",
        " \n",
        "plt.subplot(511)\n",
        "plt.plot(history.history['accuracy'], '--', label='acc')\n",
        "plt.plot(history.history['val_accuracy'], '--',label='val_acc')\n",
        "plt.title('model accuracy',fontsize=15, color='green')\n",
        "plt.ylabel('accuracy')\n",
        "plt.xlabel('epoch')\n",
        "plt.legend(loc='upper left')\n",
        "#axes=plt.gca()\n",
        "#axes.set_ylim([0.965, 1])\n",
        "plt.tight_layout(h_pad=3.0)\n",
        " \n",
        " \n",
        "plt.subplot(512)\n",
        "plt.plot(history.history['loss'], '--', label='loss')\n",
        "plt.plot(history.history['val_loss'], '--',label='val_loss')\n",
        "plt.title('model loss',fontsize=15, color='green')\n",
        "plt.ylabel('loss')\n",
        "plt.xlabel('epoch')\n",
        "plt.legend(loc='upper left')\n",
        "#axes=plt.gca()\n",
        " \n",
        "# plt.subplot(513)\n",
        "# plt.plot(history.history[prec], '--', label='precision')\n",
        "# plt.plot(history.history[valprec], '--',label='val_precision')\n",
        "# plt.title('model precision',fontsize=15, color='green')\n",
        "# plt.ylabel('precision')\n",
        "# plt.xlabel('epoch')\n",
        "# plt.legend(loc='upper left')\n",
        "# #axes=plt.gca()\n",
        " \n",
        "# plt.subplot(514)\n",
        "# plt.plot(history.history[rec], '--', label='recall')\n",
        "# plt.plot(history.history[valrec], '--',label='val_recall')\n",
        "# plt.title('model recall',fontsize=15, color='green')\n",
        "# plt.ylabel('recall')\n",
        "# plt.xlabel('epoch')\n",
        "# plt.legend(loc='upper left')\n",
        "# #axes=plt.gca()\n",
        " \n",
        "# precision = history.history[prec]\n",
        "# recall = history.history[rec]\n",
        "# precval = history.history[valprec]\n",
        "# recval = history.history[valrec]\n",
        "# f1 = [(2*a*b)/(a+b) for a,b in zip(precision, recall)]\n",
        "# f1_val = [(2*a*b)/(a+b+1e-7) for a,b in zip(precval, recval)]\n",
        " \n",
        "# plt.subplot(515)\n",
        "# plt.plot(f1, '--', label='f1_score')\n",
        "# plt.plot(f1_val, '--',label='f1_score_val')\n",
        "# plt.title('model f1 score',fontsize=15,color='green')\n",
        "# plt.ylabel('f1 score')\n",
        "# plt.xlabel('epoch')\n",
        "# plt.legend(loc='upper left')\n",
        "# #axes=plt.gca()\n",
        " \n",
        "plt.show()"
      ]
    },
    {
      "cell_type": "code",
      "execution_count": 22,
      "metadata": {
        "colab": {
          "base_uri": "https://localhost:8080/",
          "height": 459
        },
        "colab_type": "code",
        "id": "CCHvhQ1zpBpi",
        "outputId": "a7852c54-9984-4f80-b6b3-0b052031e0e1"
      },
      "outputs": [
        {
          "name": "stdout",
          "output_type": "stream",
          "text": [
            "\n",
            "Classification Report\n",
            "\n",
            "              precision    recall  f1-score   support\n",
            "\n",
            "       angry       0.64      0.61      0.63       958\n",
            "       happy       0.90      0.82      0.86      1774\n",
            "     neutral       0.63      0.64      0.63      1233\n",
            "         sad       0.58      0.65      0.61      1247\n",
            "    surprise       0.81      0.83      0.82       831\n",
            "\n",
            "    accuracy                           0.72      6043\n",
            "   macro avg       0.71      0.71      0.71      6043\n",
            "weighted avg       0.72      0.72      0.72      6043\n",
            "\n",
            "Confusion Matrix\n",
            "\n",
            "[[ 588   27  130  173   40]\n",
            " [  62 1461   96   92   63]\n",
            " [  69   66  783  287   28]\n",
            " [ 149   37  217  808   36]\n",
            " [  47   30   22   41  691]]\n"
          ]
        }
      ],
      "source": [
        "# classification reports and confusion matrix\n",
        "from sklearn.metrics import classification_report\n",
        "print('\\nClassification Report\\n')\n",
        "preds = model.predict(X_test_proc)\n",
        "y_pred = np.argmax(preds, axis=1)\n",
        "print(classification_report(Y_test, y_pred, target_names=emotions))\n",
        "from sklearn.metrics import confusion_matrix\n",
        "confusion = confusion_matrix(Y_test, y_pred)\n",
        "print('Confusion Matrix\\n')\n",
        "print(confusion)"
      ]
    },
    {
      "cell_type": "code",
      "execution_count": 18,
      "metadata": {
        "colab": {
          "base_uri": "https://localhost:8080/",
          "height": 910
        },
        "colab_type": "code",
        "id": "qnpbYgwE3NrM",
        "outputId": "d5acf8b4-8d38-487f-f0a3-706a1e011bf7"
      },
      "outputs": [
        {
          "data": {
            "image/png": "[encoded data removed]",
            "text/plain": [
              "<Figure size 720x720 with 2 Axes>"
            ]
          },
          "metadata": {
            "needs_background": "light"
          },
          "output_type": "display_data"
        }
      ],
      "source": [
        "# confusion matrix\n",
        "import seaborn as sns\n",
        "import matplotlib.pyplot as plt     \n",
        " \n",
        "plt.figure(figsize=(10,10))\n",
        "ax= plt.subplot()\n",
        "sns.heatmap(confusion, annot=True, ax = ax, fmt='g'); #annot=True to annotate cells\n",
        "ax.xaxis.set_tick_params(labeltop='on')\n",
        "# labels, title and ticks\n",
        "ax.set_xlabel('Predicted labels');\n",
        "ax.set_ylabel('True labels'); \n",
        "ax.set_title('Confusion Matrix'); \n",
        "\n",
        "\n",
        "ax.xaxis.set_ticklabels(emotions); \n",
        " \n",
        "ax.yaxis.set_ticklabels(emotions);"
      ]
    },
    {
      "cell_type": "code",
      "execution_count": 27,
      "metadata": {
        "colab": {},
        "colab_type": "code",
        "id": "_Nc1FDpV7JMd"
      },
      "outputs": [],
      "source": [
        "# saving the model\n",
        "model.save('./models/my_model.h5')"
      ]
    },
    {
      "cell_type": "code",
      "execution_count": 20,
      "metadata": {
        "colab": {},
        "colab_type": "code",
        "id": "FiiJcavJHRiP"
      },
      "outputs": [
        {
          "data": {
            "text/plain": [
              "['models/id_to_emotion.pkl']"
            ]
          },
          "execution_count": 20,
          "metadata": {},
          "output_type": "execute_result"
        }
      ],
      "source": [
        "import joblib\n",
        "joblib.dump(index_to_emotion, \"models/id_to_emotion.pkl\")"
      ]
    },
    {
      "cell_type": "code",
      "execution_count": null,
      "metadata": {},
      "outputs": [],
      "source": []
    }
  ],
  "metadata": {
    "accelerator": "GPU",
    "colab": {
      "authorship_tag": "ABX9TyMQZu4w1+SuB7w1BVk+SvaX",
      "include_colab_link": true,
      "name": "emotion_detection.ipynb",
      "provenance": []
    },
    "kernelspec": {
      "display_name": "Python 3.7.9 ('ml_env')",
      "language": "python",
      "name": "python3"
    },
    "language_info": {
      "codemirror_mode": {
        "name": "ipython",
        "version": 3
      },
      "file_extension": ".py",
      "mimetype": "text/x-python",
      "name": "python",
      "nbconvert_exporter": "python",
      "pygments_lexer": "ipython3",
      "version": "3.7.9"
    },
    "vscode": {
      "interpreter": {
        "hash": "96970331ca5bc44691bdd22fee7bed44bcf698a2e2a1e81b1ad1ecb7286a31e2"
      }
    }
  },
  "nbformat": 4,
  "nbformat_minor": 0
}
